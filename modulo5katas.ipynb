{
 "cells": [
  {
   "cell_type": "code",
   "execution_count": null,
   "metadata": {},
   "outputs": [],
   "source": [
    "# EJERCICIO 1 - UTILIZAR OPERADORES ARITMETICOS\n",
    "\n",
    "# Distancia entre los siguientes planetas y el sol.\n",
    "\n",
    "Tierra = 149597870\n",
    "Jupiter = 778547200\n",
    "\n",
    "Distancia = (Jupiter - Tierra)\n",
    "Distancia_millas = Distancia*0.621\n",
    "print(f'{Distancia} km')\n",
    "print(f'{Distancia_millas} mi')"
   ]
  },
  {
   "cell_type": "code",
   "execution_count": null,
   "metadata": {},
   "outputs": [],
   "source": [
    "# EJERCICIO 2 - CONVIERTE CADENAS EN NUMEROS Y USAR VALORES ABSOLUTOS\n",
    "\n",
    "nombre = input('¿Cual es tu nombre?')\n",
    "\n",
    "distancia1 = int(input('Ingrese su primer distancia en Km: '))\n",
    "distancia2 = int(input('Ingrese su segunda distancia en Km: '))\n",
    "\n",
    "distancia_entre = abs(distancia1 - distancia2)\n",
    "print(f'{distancia_entre} km')\n",
    "distancia_entre_mi = distancia_entre*0.621\n",
    "print(distancia_entre_mi)\n",
    "\n"
   ]
  }
 ],
 "metadata": {
  "interpreter": {
   "hash": "b89b5cfaba6639976dc87ff2fec6d58faec662063367e2c229c520fe71072417"
  },
  "kernelspec": {
   "display_name": "Python 3.10.1 64-bit",
   "language": "python",
   "name": "python3"
  },
  "language_info": {
   "codemirror_mode": {
    "name": "ipython",
    "version": 3
   },
   "file_extension": ".py",
   "mimetype": "text/x-python",
   "name": "python",
   "nbconvert_exporter": "python",
   "pygments_lexer": "ipython3",
   "version": "3.10.1"
  },
  "orig_nbformat": 4
 },
 "nbformat": 4,
 "nbformat_minor": 2
}

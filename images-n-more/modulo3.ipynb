{
 "cells": [
  {
   "cell_type": "markdown",
   "metadata": {},
   "source": [
    "INTRODUCCION\n",
    "\n",
    "Los valores booleanos es un tipo comun de valores y solo se tienen dos valores: Verdadero o Falso. \n",
    "Comprender el funcionamiento de los valores es fundamental para escribir logica fundamental."
   ]
  },
  {
   "cell_type": "markdown",
   "metadata": {},
   "source": [
    "Escenario: Imprimir mensajes de advertencia\n",
    "Supongamos que estás creando un programa que alertará a las personas de todo el mundo de que un asteroide grande y rápido se está acercando a la Tierra. Si el asteroide está lo suficientemente cerca de la Tierra como para representar un peligro, debe imprimir un mensaje de advertencia en los dispositivos de las personas. Si no hay peligro, debes hacer que todos lo sepan, para que puedan continuar con su día. Para poder proporcionar estos mensajes, tendrías que encontrar una manera de razonar si una condición es verdadera o falsa.\n",
    "\n",
    "En este módulo, usarás palabras clave y operadores booleanos para escribir varios tipos de expresiones condicionales.\n",
    "\n",
    "¿Qué aprenderás?\n",
    "Al final de este módulo, podrás:\n",
    "\n",
    "Ejecutar código en una variedad de condiciones mediante sentencias if, else, y elif .\n",
    "Combinar la lógica condicional y crear condiciones más complejas mediante el uso de operadores and y operadores or.\n",
    "¿Cuál es el objetivo principal?\n",
    "Este módulo te enseña cómo usar la lógica condicional para crear programas basados en decisiones."
   ]
  },
  {
   "cell_type": "markdown",
   "metadata": {},
   "source": [
    "Lógica Booleana\n",
    "Escribir declaraciones 'if'\n",
    "Para expresar la lógica condicional en Python, se utilizan instrucciones if . Cuando escribes una declaración if, confías en otro concepto que cubrimos en este módulo, los operadores matemáticos. Python admite los operadores lógicos comunes de las matemáticas: igual, no igual, menor que, menor que o igual a, mayor que y mayor que o igual a. Probablemente estés acostumbrado a ver estos operadores mostrados usando símbolos, que es la forma en que también se representan en Python.\n",
    "\n",
    "Iguales: a == b\n",
    "No es igual: a != b\n",
    "Menos que: a < b\n",
    "Menor o igual que: a <= b\n",
    "Mayor que: a > b\n",
    "Mayor o igual que: a >= b"
   ]
  },
  {
   "cell_type": "markdown",
   "metadata": {},
   "source": [
    "Expresiones de prueba\n",
    "\n",
    "Se usa la sentencia \"if\" para ejecutar determinado codigo si una condicion se cumple.\n",
    "La sintaxis es escribir \"if\" seguido de la instruccion para determinar si la condicion es verdadera o falsa.\n",
    "Si la condicion es True, el codigo con la siguiente sangria se ejecuta."
   ]
  },
  {
   "cell_type": "code",
   "execution_count": null,
   "metadata": {},
   "outputs": [],
   "source": [
    "# Tip de practica 1: \n",
    "\n",
    "a = 97\n",
    "b = 55\n",
    "# Test de expresion / expresion de prueba\n",
    "if a<b:\n",
    "    # La siguiente linea que sera ejecutada si el valor de a<b == True\n",
    "    print(b)\n",
    "    "
   ]
  },
  {
   "cell_type": "markdown",
   "metadata": {},
   "source": [
    "Escribir declaraciones if\n",
    "Utiliza una instrucción if si deseas ejecutar código sólo si se cumple una determinada condición. La sintaxis de una instrucción if es siempre:\n",
    "\n",
    "if expresion_prueba:\n",
    "    # intrucción(es) a ejecutar"
   ]
  },
  {
   "cell_type": "code",
   "execution_count": null,
   "metadata": {},
   "outputs": [],
   "source": [
    "# Tipo de practica 2: \n",
    "\n",
    "a = 93\n",
    "b = 27\n",
    "if a>= b:\n",
    "    print(a)\n",
    "    \n"
   ]
  },
  {
   "cell_type": "code",
   "execution_count": null,
   "metadata": {},
   "outputs": [],
   "source": [
    "# Tips de practica 1 y 2 (Ejecuacion de codigo por sangria)\n",
    "\n",
    "a = 24\n",
    "b = 44\n",
    "\n",
    "if a <= 0:\n",
    "    print(a)\n",
    "print(b)\n",
    "\n",
    "# Se imprime el valor b\n"
   ]
  },
  {
   "cell_type": "markdown",
   "metadata": {},
   "source": [
    "Las declaraciones \"else\" y \"elif\"\n",
    "\n",
    "¿Qué sucede si también deseas que tu programa ejecute una pieza de código cuando tu expresión de prueba es False? ¿O qué pasa si deseas incluir otra expresión de prueba?.\n",
    "\n",
    "Python tiene otras palabras clave que puedes usar para hacer declaraciones if más complejas, else y elif . Cuando se utiliza if, else, y elif en combinación, se pueden escribir programas complejos con varias expresiones de prueba y sentencias para ejecutar.\n",
    "\n",
    "Trabajando con else\n",
    "Cuando utilizas una instrucción, el cuerpo del programa sólo se ejecutará si la expresión de prueba es True. Para agregar más código que se ejecutará cuando la expresión de prueba sea False, debes agregar una instrucción else."
   ]
  },
  {
   "cell_type": "code",
   "execution_count": null,
   "metadata": {},
   "outputs": [],
   "source": [
    "# Retomando el ejemplo\n",
    "\n",
    "a = 93\n",
    "b = 27\n",
    "if a>= b:\n",
    "    print(a)\n",
    "\n",
    "# Dentro de este codigo no pasa nada si la condicion a >= b es False\n",
    "\n",
    "# Agregando la nueva sentencia else\n",
    "a = 93\n",
    "b = 27\n",
    "if a >= b:\n",
    "    print(a)\n",
    "else:\n",
    "    print(b)\n",
    "\n",
    "# Si la conidcion fuera False se continua con la linea de codigo else\n"
   ]
  },
  {
   "cell_type": "markdown",
   "metadata": {},
   "source": [
    "Sintaxis\n",
    "\n",
    "if expresion_prueba:\n",
    "    # instrucción(es) a ejecutar\n",
    "else:\n",
    "    # instrucción(es) a ejecutar"
   ]
  },
  {
   "cell_type": "markdown",
   "metadata": {},
   "source": [
    "Trabajando con elif\n",
    "En Python, la palabra clave elif es la abreviatura de else if. El uso de instrucciones elif te permite agregar varias expresiones de prueba al programa. Estas instrucciones se ejecutan en el orden en que están escritas, por lo que el programa ingresará una instrucción elif solo si la primera instrucción if es False"
   ]
  },
  {
   "cell_type": "code",
   "execution_count": null,
   "metadata": {},
   "outputs": [],
   "source": [
    "# Ejemplo\n",
    "\n",
    "a = 93\n",
    "b = 27\n",
    "if a >= b:\n",
    "    print(\"a es mayor o igual que b\")\n",
    "elif a == b:\n",
    "    print(\"a es igual que b\") #Esta linea de codigo no se ejecuta\n"
   ]
  },
  {
   "cell_type": "markdown",
   "metadata": {},
   "source": [
    "La sintaxis de una instrucción if/elif es:\n",
    "\n",
    "if expresion_prueba:\n",
    "    # instrucción(es) a ejecutar\n",
    "elif expresion_prueba:\n",
    "    # instrucción(es) a ejecutar\n",
    "    "
   ]
  },
  {
   "cell_type": "markdown",
   "metadata": {},
   "source": [
    "Combinar declaraciones if , elif, y else\n",
    "Puedes combinar sentencias if , elif, y else para crear programas con lógica condicional compleja. Recuerda que una instrucción elif sólo se ejecuta cuando la condición if es False. También ten en cuenta que un bloque if puede tener solo un bloque else, pero puede tener varios bloques elif."
   ]
  },
  {
   "cell_type": "code",
   "execution_count": null,
   "metadata": {},
   "outputs": [],
   "source": [
    "# Ejemplo de un codigo con logica compleja\n",
    "\n",
    "a = 93\n",
    "b = 27\n",
    "if a > b:\n",
    "    print(\"a es mayor que b\")\n",
    "elif a < b:\n",
    "    print(\"a es menor que b\")\n",
    "else: \n",
    "    print (\"a es igual que b\")"
   ]
  },
  {
   "cell_type": "markdown",
   "metadata": {},
   "source": [
    "SINTAXIS \n",
    "\n",
    "if expresion_prueba:\n",
    "    # instrucción(es) a ejecutar\n",
    "elif expresion_prueba:\n",
    "    # instrucción(es) a ejecutar\n",
    "elif expresion_prueba:\n",
    "    # instrucción(es) a ejecutar\n",
    "else:\n",
    "    # instrucción(es) a ejecutar"
   ]
  },
  {
   "cell_type": "markdown",
   "metadata": {},
   "source": [
    "Trabajar con lógica condicional anidada\n",
    "Python también admite lógica condicional anidada, lo que significa que puedes anidar sentencias if , elif, y else, para crear programas aún más complejos. Para anidar condiciones, indenta las condiciones internas y todo lo que esté en el mismo nivel de sangría se ejecutará en el mismo bloque de código:"
   ]
  },
  {
   "cell_type": "code",
   "execution_count": null,
   "metadata": {},
   "outputs": [],
   "source": [
    "a = 16\n",
    "b = 25\n",
    "c = 27\n",
    "if a > b:\n",
    "    if b > c:\n",
    "        print (\"a es mayor que b y b es mayor que c\")\n",
    "    else: \n",
    "        print (\"a es mayor que b y menor que c\")\n",
    "elif a == b:\n",
    "    print (\"a es igual que b\")\n",
    "else:\n",
    "    print (\"a es menor que b\")\n",
    "\n",
    "# Comparacion de varios valores"
   ]
  },
  {
   "cell_type": "markdown",
   "metadata": {},
   "source": [
    "SINTAXIS\n",
    "\n",
    "if expresion_prueba:\n",
    "    # instrucción(es) a ejecutar\n",
    "    if expresion_prueba:\n",
    "        # instrucción(es) a ejecutar\n",
    "    else: \n",
    "        # instrucción(es) a ejecutar\n",
    "elif expresion_prueba:\n",
    "    # instrucción(es) a ejecutar\n",
    "    if expresion_prueba:\n",
    "        # instrucción(es) a ejecutar\n",
    "    else: \n",
    "        # instrucción(es) a ejecutar\n",
    "else:\n",
    "    # instrucción(es) a ejecutar"
   ]
  },
  {
   "cell_type": "markdown",
   "metadata": {},
   "source": [
    "Operadores 'and' y 'or'?\n",
    "Es posible que ocasionalmente desees combinar expresiones de prueba para evaluar varias condiciones if , elif, y else en una instrucción. Para ello, utilizaremos los operadores booleanos and y or."
   ]
  },
  {
   "cell_type": "markdown",
   "metadata": {},
   "source": [
    "Operador Or\n",
    "\n",
    "Puede conectar dos expresiones booleanas.\n",
    "Para que tods la expresion se evalue como True al menos una de las subexpresiones debe ser verdadera.\n",
    "Sin ninguna de las expresiones es verdadera entonces la sentencia se evalua como False.\n",
    "Si ambas son verdaderas entonces se evalua como verdadero.\n",
    "\n",
    "SINTAXIS\n",
    "\n",
    "subexpresion1 or subexpresion2\n",
    "\n"
   ]
  },
  {
   "cell_type": "code",
   "execution_count": null,
   "metadata": {},
   "outputs": [],
   "source": [
    "a = 23\n",
    "b = 34\n",
    "if a == 34 or b == 34:\n",
    "    print(a + b)\n",
    "    "
   ]
  },
  {
   "cell_type": "markdown",
   "metadata": {},
   "source": [
    "Operador and\n",
    "\n",
    "Tambien puedes conectar dos expresiones por la expresion and.\n",
    "Ambas condiciones deben ser verdaderas para que la sentencia final se evalue como True.\n",
    "En cualquier otro caso la expresion se toma como False\n",
    "\n",
    "SINTAXIS\n",
    "\n",
    "subexpresion1 and subexpresion2"
   ]
  },
  {
   "cell_type": "code",
   "execution_count": 8,
   "metadata": {},
   "outputs": [],
   "source": [
    "a = 23\n",
    "b = 34\n",
    "if a == 34 and b == 34:\n",
    "    print (a + b)"
   ]
  },
  {
   "cell_type": "markdown",
   "metadata": {},
   "source": [
    "COMPARACION ENTRE AND Y OR\n",
    "\n",
    "Aquí está la tabla de la verdad para: and\n",
    "\n",
    "subexpresión1\tOperador\tsubexpresión2\tResultado\n",
    "True\t          and\t        True\t      True\n",
    "True\t          and\t        False\t      False\n",
    "False\t          and\t        True\t      False\n",
    "False\t          and\t        False\t      False\n",
    "\n",
    "Aquí está la tabla de la verdad para: or\n",
    "\n",
    "subexpresión1\tOperador\tsubexpresión2\tResultado\n",
    "True\t          or\t        True\t      True\n",
    "True\t          or\t        False\t      True\n",
    "False\t          or\t        True\t      True\n",
    "False\t          or\t        False\t      False"
   ]
  }
 ],
 "metadata": {
  "interpreter": {
   "hash": "0573999cefd5602c2714e5e113262987c78dd7956fa4c30f368b445bcc0b503b"
  },
  "kernelspec": {
   "display_name": "Python 3.10.1 ('env': venv)",
   "language": "python",
   "name": "python3"
  },
  "language_info": {
   "codemirror_mode": {
    "name": "ipython",
    "version": 3
   },
   "file_extension": ".py",
   "mimetype": "text/x-python",
   "name": "python",
   "nbconvert_exporter": "python",
   "pygments_lexer": "ipython3",
   "version": "3.10.1"
  },
  "orig_nbformat": 4
 },
 "nbformat": 4,
 "nbformat_minor": 2
}

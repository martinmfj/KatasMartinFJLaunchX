{
 "cells": [
  {
   "cell_type": "markdown",
   "metadata": {},
   "source": [
    "INTRODUCCION\n",
    "\n",
    "Las cadenas en Python es una de las principales formas y mas comunes en el lenguaje. Interaccion con cadenas, formato y reemplazo de \n",
    "texto son habilidades esenciales a desarrollar para trabajar con codigo Python.\n",
    "\n",
    "Escenario: Crear un programa para describir hechos sobre la Luna\n",
    "Imagina que estás creando un programa para describir algunas mediciones y otra información sobre la Luna. Deberás usar varias operaciones de cadena para crear el resultado.\n",
    "\n",
    "¿Qué aprenderás?\n",
    "Al final de este módulo, podrás:\n",
    "\n",
    "- Utilizar métodos de cadena especiales.\n",
    "- Utilizar variables para introducir valores en el texto.\n",
    "- Aplicar otras técnicas de formato avanzadas para cambiar la forma en que se presenta el texto.\n",
    "\n",
    "\n",
    "Conceptos basicos de las cadenas de Python\n",
    "\n",
    "Las cadenas de texto en python son sencillas de realizar en ciertos escenarios se pueden complicar cuando se modifican valores o se da formato al texto.\n",
    "\n",
    "En el siguiente ejemplo tienes un hecho asignado a una variable, y debes agregarle otro hecho. Usando la sintaxis de Python el garegar este hecho parece modificar la variableen la salida.\n",
    "\n",
    "Sin mebargo, la variable original no tinene ningun cambio en el valor asignado.\n"
   ]
  },
  {
   "cell_type": "code",
   "execution_count": null,
   "metadata": {},
   "outputs": [],
   "source": [
    "fact = 'The Moon has no atmosphere.'\n",
    "fact + ' No sound can be heard on the Moon.'\n",
    "\n",
    "# O afecta el valor de la variable\n",
    "\n",
    "fact\n",
    "\n",
    "# Para conservar ambos valores debes asignarlos a una sola variable.\n",
    "two_facts = fact + 'No sound can be heard on the Moon.'\n",
    "two_facts\n",
    "\n"
   ]
  },
  {
   "cell_type": "markdown",
   "metadata": {},
   "source": [
    "Acerca del uso de las comillas\n",
    "\n",
    "Se pueden incluir dentro de las cadenas de Python. Aunque puedes usarlos indistintamente, es mejor usar un tipo de cadena dentro de un proyecto.\n",
    "\n",
    "moon_radius = \"The Moon has a radius of 1,080 miles\"\n",
    "\n",
    "Sin embargo, cuando se pretende usar comillas dentro de la cadena de texto, se debe utilizar un estilo de comilla diferente.\n",
    "\n",
    "'The \"near side\" is the part of the Moon that faces the Earth'\n",
    "\n",
    "Del mismo modo, si tenemos comillas simples dentro de la cadena de texto, se debe utilizar un estilo diferente para encerrar todo el texto de interes.\n",
    "\n",
    "\"We only see about 60% of the Moon's surface\"\n",
    "\n",
    "En contrario de hacer la correcta sintaxis y alternado del uso de las comillas.\n",
    "\n",
    "'We only see about 60% of the Moon's surface'\n",
    "  File '<stdin>', line 1\n",
    "    'We only see about 60% of the Moon's surface'\n",
    "                                       ^\n",
    "SyntaxError: invalid syntax\n",
    "\n",
    "Para una combiacion de comillas simples, dobles y triples un ejemplo correcto es el siguiente.\n",
    "\n",
    "\"\"\"We only see about 60% of the Moon's surface, this is known as the \"near side\".\"\"\"\n"
   ]
  },
  {
   "cell_type": "markdown",
   "metadata": {},
   "source": [
    "Texto multilinea.\n",
    "\n",
    "Existen maneras para escribir lineas de texto.\n",
    "Utilizando \\n.\n",
    "Utiliza comillas triples.\n",
    "Los caracteres de nueva linea se separan en varias lineas al imprimir la salida.\n"
   ]
  },
  {
   "cell_type": "code",
   "execution_count": null,
   "metadata": {},
   "outputs": [],
   "source": [
    "multiline = \"Facts about the Moon:\\n There is no atmosphere.\\n There is no sound.\"\n",
    "print(multiline)\n",
    "\n",
    "\n",
    "# Ejemplo con comillas triples\n",
    "\n",
    "multiline = \"\"\"Facts about the Moon:\n",
    "...  There is no atmosphere.\n",
    "...  There is no sound.\"\"\"\n",
    "print(multiline)\n"
   ]
  },
  {
   "cell_type": "markdown",
   "metadata": {},
   "source": [
    "METODOS DE STRING EN PYTHON\n",
    "\n",
    "Las cadenas son uno de los tipos mas comunes en Python. Se tienen que manipularlos para extraer informacion o ajustarse a un formato determinado-\n",
    "Los metodos de cadena forman parte del tipo str \n",
    "\n",
    "Por ejemplo se tiene el metodo .title()\n"
   ]
  },
  {
   "cell_type": "code",
   "execution_count": null,
   "metadata": {},
   "outputs": [],
   "source": [
    "'temperatures and facts about the moon'.title()\n",
    "\n",
    "\n",
    "# El mismo comportamiento y uso ocurre en una variable\n",
    "\n",
    "heading = 'temperatures and facts about the moon'\n",
    "heading.title()"
   ]
  },
  {
   "cell_type": "markdown",
   "metadata": {},
   "source": [
    "DIVISION DE UNA CADENA\n",
    "\n",
    "Un metodo para la division de cadenas es .split(). Sin argumentos, el metodo separara la cadena en cada espacio. Esto crearia una lista de cada palabra o numero separada por un espacio.\n"
   ]
  },
  {
   "cell_type": "code",
   "execution_count": null,
   "metadata": {},
   "outputs": [],
   "source": [
    "temperatures = \"Daylight: 260 F Nighttime: -280 F\"\n",
    "\n",
    "temperatures .split()\n",
    "\n",
    "# Cada caracter de una nueva linea se puede utilizar para dividir la cadena al final de cada linea, creando lineas individuales\n"
   ]
  },
  {
   "cell_type": "code",
   "execution_count": null,
   "metadata": {},
   "outputs": [],
   "source": [
    "temperatures .split('\\n')\n",
    "\n",
    "# Extension util para procesar o extraer informacion al momento de cargar datos u otro recurso"
   ]
  },
  {
   "cell_type": "markdown",
   "metadata": {},
   "source": [
    "BUSCAR UNA CADENA\n",
    "\n",
    "Ademas de usar un bucle, algunos metodos de cadena pueden buscar contenido antes del procesamiento, sin la necesidad de un bucle.\n",
    "Si te interesa cierta informacion de una cadena de texto, el programa solo se enfocara para extraer dicha informacion.\n",
    "\n",
    "La forma sencilla de descubrir si existe determinada palabra o grupo de caracteres es sin usar un metodo.\n"
   ]
  },
  {
   "cell_type": "code",
   "execution_count": null,
   "metadata": {},
   "outputs": [],
   "source": [
    "'Moon' in 'This text will describe facts and challenges with space travel'\n",
    "\n",
    "# Salida False"
   ]
  },
  {
   "cell_type": "code",
   "execution_count": null,
   "metadata": {},
   "outputs": [],
   "source": [
    "'Moon' in 'This text will describe facts about the Moon'\n",
    "\n",
    "# Salida True "
   ]
  },
  {
   "cell_type": "markdown",
   "metadata": {},
   "source": [
    "Un enfoque para encontrar la posicion de una palabra especifica en una acdena es usar el metodo .find()"
   ]
  },
  {
   "cell_type": "code",
   "execution_count": null,
   "metadata": {},
   "outputs": [],
   "source": [
    "temperatures = \"\"\"Saturn has a daytime temperature of -170 degrees Celsius,\n",
    "... while Mars has -28 Celsius.\"\"\"\n",
    "\n",
    "temperatures.find('Moon')\n",
    "\n",
    "# La salida es -1 debido a que no se encontro un elemento similar al indicado.\n",
    "\n",
    "temperatures.find('Mars')\n",
    "\n",
    "# Otra forma de buscar contenido es usar el metodo .count(), que devuelve el numero total de apariciones de una determinada palabra en una\n",
    "# una cadena\n",
    "\n",
    "# Las cadenas de codigo se distinguen por minusculas y mayusculas, por lo cual Moon y moon son palabras diferentes.\n",
    "\n",
    "# Para realizar una comparacion sin distincion de minusculas y mayusculas se puede convertir toda la cadena de texto a minuscula\n",
    "\n",
    "\"The Moon And The Earth\".lower()\n",
    "\n",
    "# Al igual que el metodo anterior, las cadenas tienen un metodo para hacer lo contrario\n",
    "\n",
    "\"The Moon And The Earth\".upper()"
   ]
  },
  {
   "cell_type": "markdown",
   "metadata": {},
   "source": [
    "COMPROBAR CONTENIDO \n",
    "\n",
    "Se presentaran situaciones en donde procesar la informacion sera un poco0 mas complicado debido a la presentacion de la informacion"
   ]
  },
  {
   "cell_type": "code",
   "execution_count": null,
   "metadata": {},
   "outputs": [],
   "source": [
    "temperatures = 'Mars Average Temperature: -60 C'\n",
    "\n",
    "# Para extraer la informacion se tienen las siguientes alternativas\n",
    "\n",
    "parts = temperatures.split(':')\n",
    "parts\n",
    "\n",
    "# En las listas se introduce el numero de la posicion del elemento que es de nuestro interes.\n",
    "\n",
    "parts[1]\n",
    "\n",
    "# Sin embargo, este metodo confia ciegamente que todo elemento despues de ':' sera una temperatura."
   ]
  },
  {
   "cell_type": "code",
   "execution_count": null,
   "metadata": {},
   "outputs": [],
   "source": [
    "# OTROS METODO, ES ITERAR POR ELEMENTOS DENTRO DE LA LISTA\n",
    "\n",
    "mars_temperature = 'The highest temperature on Mars is about 30 C'\n",
    "\n",
    "for item in mars_temperature.split():\n",
    "    if item.isnumeric():\n",
    "        print(item)"
   ]
  },
  {
   "cell_type": "markdown",
   "metadata": {},
   "source": [
    "El comando .isnumeric(), y el comando .isdecimal()\n",
    "\n",
    ".isnumeric, no funciona con valores negativos, existe un metodo para identificar dichos valores\n",
    "El metodo es .startswith()"
   ]
  },
  {
   "cell_type": "code",
   "execution_count": null,
   "metadata": {},
   "outputs": [],
   "source": [
    "'-60'.startswith('-')\n",
    "\n",
    "# Del mismo modo, para determinar el ultimo caracter de una cadena.\n",
    "\n",
    "if '30 C'.endswith(\"C\"):\n",
    "    print('This temperature is in Celsius')\n"
   ]
  },
  {
   "cell_type": "markdown",
   "metadata": {},
   "source": [
    "TRANSFORMAR TEXTO\n",
    "\n",
    "Existen metodos alternativos para transformar texto en otras formas,\n",
    "Se pueden utilizar el metodo .replace() para buscar y reemplazar apariciones de un caracter o grupo de caracteres:"
   ]
  },
  {
   "cell_type": "code",
   "execution_count": null,
   "metadata": {},
   "outputs": [],
   "source": [
    "'Saturn has a daytime temperature of -170 degrees Celsius, while Mars has -28 Celsius.'.replace('Celsius', 'C')"
   ]
  },
  {
   "cell_type": "code",
   "execution_count": null,
   "metadata": {},
   "outputs": [],
   "source": [
    "# Es una buena idea normalizar el texto dandoles un formato en minuscula a todo el texto\n",
    "\n",
    "# Ejemplo\n",
    "\n",
    "text = 'Temperatures on the Moon can vary wildly'\n",
    "'temperatures' in text"
   ]
  },
  {
   "cell_type": "code",
   "execution_count": null,
   "metadata": {},
   "outputs": [],
   "source": [
    "# Normalizando el texto\n",
    "text = 'Temperatures on the Moon can vary wildly'\n",
    "'temperatures' in text.lower()"
   ]
  },
  {
   "cell_type": "markdown",
   "metadata": {},
   "source": [
    "Asi como se tiene el comando split() para dividir cadenas, tambien se tiene el comando .join() para volver a unirlos.\n",
    "\n",
    "El metodo .join() requiere un iterable como argumento, por lo cual su uso se ve diferente de otros tipos de cadena."
   ]
  },
  {
   "cell_type": "code",
   "execution_count": null,
   "metadata": {},
   "outputs": [],
   "source": [
    "moon_facts = ['The Moon is drifting away from the Earth.', 'On average, the Moon is moving about 4cm every year']\n",
    "' \\n '.join(moon_facts)"
   ]
  },
  {
   "cell_type": "markdown",
   "metadata": {},
   "source": [
    "FORMATO DE CADENAS EN PYTHON\n",
    "\n",
    "Ademas de transformar texto y realizar operaciones basicas, como busqueda y coincidencias de elementos, es esencial darle formato al texto cuando se presenta la informacion. Lo mas sencillo es hacerlo con print(). Te resultara fundamental obtener la informacion en variables y otras estructuras.\n",
    "\n",
    "Formato con signo de procentaje (%)"
   ]
  },
  {
   "cell_type": "code",
   "execution_count": null,
   "metadata": {},
   "outputs": [],
   "source": [
    "mass_percentage = '1/6'\n",
    "print('On the Moon, you would weigh about %s of your weight on Earth' % mass_percentage)\n",
    "\n",
    "# El uso de multiples valores cambia la sintaxis ya que requiere parentesis para rodear las variables que se pasan\n",
    "\n",
    "print(\"\"\"Both sides of the %s get the same amount of sunlight,\n",
    "    but only one side is seen from %s because\n",
    "    the %s rotates around its own axis when it orbits %s.\"\"\" % ('Moon', 'Earth', 'Moon', 'Earth'))\n",
    "\n",
    "# Este metodo es muy complicado y propenso a cometer errores"
   ]
  },
  {
   "cell_type": "markdown",
   "metadata": {},
   "source": [
    "Metodo format\n",
    "\n",
    ".format() utiliza llaves ({}) como marcadores de posicion dentro de una cadena y utiliza la asignacion de variables para reemplazar el texto."
   ]
  },
  {
   "cell_type": "code",
   "execution_count": null,
   "metadata": {},
   "outputs": [],
   "source": [
    "mass_percentage = '1/6'\n",
    "print('On the Moon, you would weigh about {} of your weight on Earth'.format(mass_percentage))\n",
    "\n",
    "# No es necesario asignar variables repetidas varias veces, lo que hcae menos detallado el codigo y propenso a errores\n",
    "\n",
    "print(\"\"\"You are lighter on the {0}, because on the {0} \n",
    "... you would weigh about {1} of your weight on Earth\"\"\".format(\"Moon\", mass_percentage))"
   ]
  },
  {
   "cell_type": "markdown",
   "metadata": {},
   "source": [
    "ACERCA DE LAS CADENAS CON f\n",
    "\n",
    "A partir de la version 3.6 de Python es posible usar f-strings"
   ]
  },
  {
   "cell_type": "code",
   "execution_count": null,
   "metadata": {},
   "outputs": [],
   "source": [
    "print(f'On the Moon, you would weigh about {mass_percentage} of your weight on Earth')"
   ]
  },
  {
   "cell_type": "code",
   "execution_count": null,
   "metadata": {},
   "outputs": [],
   "source": [
    "round(100/6, 1)\n",
    "\n",
    "# Con las cadenas f, no es necesario asignar un valor a una variable de antemano\n",
    "\n",
    "print(f'On the Moon, you would weigh about {round(100/6, 1)}% of your weight on Earth')"
   ]
  },
  {
   "cell_type": "markdown",
   "metadata": {},
   "source": [
    "El uso de una expresion no requiere una llamada a una funcion. Cualquiera de los metodos son validos.\n",
    "Se puede imponer un estilo de escritura sobre una escritura espefica para crear un titulo:"
   ]
  },
  {
   "cell_type": "code",
   "execution_count": null,
   "metadata": {},
   "outputs": [],
   "source": [
    "subject = 'interesting facts about the moon'\n",
    "f'{subject.title()}'"
   ]
  }
 ],
 "metadata": {
  "interpreter": {
   "hash": "b89b5cfaba6639976dc87ff2fec6d58faec662063367e2c229c520fe71072417"
  },
  "kernelspec": {
   "display_name": "Python 3.10.1 64-bit",
   "language": "python",
   "name": "python3"
  },
  "language_info": {
   "codemirror_mode": {
    "name": "ipython",
    "version": 3
   },
   "file_extension": ".py",
   "mimetype": "text/x-python",
   "name": "python",
   "nbconvert_exporter": "python",
   "pygments_lexer": "ipython3",
   "version": "3.10.1"
  },
  "orig_nbformat": 4
 },
 "nbformat": 4,
 "nbformat_minor": 2
}

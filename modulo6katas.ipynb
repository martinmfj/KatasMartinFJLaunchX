{
 "cells": [
  {
   "cell_type": "code",
   "execution_count": null,
   "metadata": {},
   "outputs": [],
   "source": [
    "#EJERCICIO 1 - CREAR Y USAR LISTAS PYTHON\n",
    "\n",
    "planets = ['Mercurio', 'Venus', 'Tierra', 'Marte', 'Jupiter', 'Saturno', 'Urano','Neptuno']\n",
    "print(planets)\n",
    "\n",
    "planets.append('Pluton')\n",
    "Numero_planetas = len(planets)\n",
    "print(f'NUmero de planetas: {Numero_planetas}')\n",
    "\n",
    "\n",
    "print('El ultimo planeta es', planets[-1])"
   ]
  },
  {
   "cell_type": "code",
   "execution_count": 18,
   "metadata": {},
   "outputs": [
    {
     "name": "stdout",
     "output_type": "stream",
     "text": [
      "La posicion del planeta respecto al sol es: 4\n",
      "Planetas cercanos: ['Mercurio', 'Venus', 'Tierra', 'Marte']\n",
      "Planetas alejados: ['Saturno', 'Urano', 'Neptuno']\n"
     ]
    }
   ],
   "source": [
    "# EJERCICO 2 - TRABAJANDO CON DATOS DE UNA LISTA\n",
    "\n",
    "planets = ['Mercurio', 'Venus', 'Tierra', 'Marte', 'Jupiter', 'Saturno', 'Urano','Neptuno']\n",
    "planeta = input('Ingrese el nombre de un planeta(Con mayusucla al inicio): ')\n",
    "posicion = planets.index(planeta)\n",
    "print(f'La posicion del planeta respecto al sol es: {posicion}')\n",
    "planetas_cercanos = planets[0:posicion]\n",
    "print(f'Planetas cercanos: {planetas_cercanos}')\n",
    "planetas_alejados = planets[posicion+1:]\n",
    "print(f'Planetas alejados: {planetas_alejados}')\n",
    "\n",
    "\n"
   ]
  }
 ],
 "metadata": {
  "interpreter": {
   "hash": "b89b5cfaba6639976dc87ff2fec6d58faec662063367e2c229c520fe71072417"
  },
  "kernelspec": {
   "display_name": "Python 3.10.1 64-bit",
   "language": "python",
   "name": "python3"
  },
  "language_info": {
   "codemirror_mode": {
    "name": "ipython",
    "version": 3
   },
   "file_extension": ".py",
   "mimetype": "text/x-python",
   "name": "python",
   "nbconvert_exporter": "python",
   "pygments_lexer": "ipython3",
   "version": "3.10.1"
  },
  "orig_nbformat": 4
 },
 "nbformat": 4,
 "nbformat_minor": 2
}

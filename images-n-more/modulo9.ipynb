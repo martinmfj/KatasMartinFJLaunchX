{
 "cells": [
  {
   "cell_type": "code",
   "execution_count": null,
   "metadata": {},
   "outputs": [],
   "source": [
    "# Defino mi función\n",
    "def rocket_parts():\n",
    "    print('payload, propellant, structure')\n",
    "\n",
    "# Llamo a mi función\n",
    "\n",
    "rocket_parts()\n",
    "\n",
    "# Otra impresion\n",
    "\n",
    "output = rocket_parts()\n",
    "\n",
    "\n",
    "# output is None\n",
    "\n",
    "# Sin amrbago, su valor no es None\n",
    "output\n"
   ]
  },
  {
   "cell_type": "markdown",
   "metadata": {},
   "source": [
    "Argumentos opcionales y requeridos\n",
    "\n",
    ">>> any([True, False, False])\n",
    "True\n",
    ">>> any([False, False, False])\n",
    "False\n",
    "El error de usar esta funcion sola\n",
    "\n",
    ">>> any()\n",
    "Traceback (most recent call last):\n",
    "  File '<stdin>', line 1, in <module>\n",
    "TypeError: any() takes exactly one argument (0 given)\n",
    "\n",
    ">>> str()\n",
    "''\n",
    ">>> str(15)\n",
    "'15'"
   ]
  },
  {
   "cell_type": "markdown",
   "metadata": {},
   "source": [
    "Uso de argumentos en una función de Python"
   ]
  },
  {
   "cell_type": "code",
   "execution_count": null,
   "metadata": {},
   "outputs": [],
   "source": [
    "def distance_from_earth(destination):\n",
    "    if destination == 'Moon':\n",
    "        return '238,855'\n",
    "    else:\n",
    "        return 'Unable to compute to that destination'\n",
    "\n",
    "# distance_from_earth()\n",
    "# Se obtiene un error debido a que se requiere un argumento\n",
    "\n",
    "distance_from_earth('Moon')"
   ]
  },
  {
   "cell_type": "markdown",
   "metadata": {},
   "source": [
    "Varios argumentos necesarios"
   ]
  },
  {
   "cell_type": "code",
   "execution_count": null,
   "metadata": {},
   "outputs": [],
   "source": [
    "def days_to_complete(distance, speed):\n",
    "    hours = distance/speed\n",
    "    return hours/24\n",
    "\n",
    "days_to_complete(238855,75)"
   ]
  },
  {
   "cell_type": "markdown",
   "metadata": {},
   "source": [
    "Funciones como argumentos"
   ]
  },
  {
   "cell_type": "code",
   "execution_count": null,
   "metadata": {},
   "outputs": [],
   "source": [
    "def days_to_complete(distance, speed):\n",
    "    hours = distance/speed\n",
    "    return hours/24\n",
    "\n",
    "days_to_complete(238855,75)\n",
    "\n",
    "total_days = days_to_complete(238855, 75)\n",
    "round(total_days)\n",
    "\n",
    "# Es mas sencillo utilizar\n",
    "\n",
    "round(days_to_complete(238855, 75))"
   ]
  },
  {
   "cell_type": "markdown",
   "metadata": {},
   "source": [
    "Uso de argumentos de palabra clave en Python"
   ]
  },
  {
   "cell_type": "code",
   "execution_count": null,
   "metadata": {},
   "outputs": [],
   "source": [
    "from datetime import timedelta, datetime\n",
    "\n",
    "def arrival_time(hours=51):\n",
    "    now = datetime.now()\n",
    "    arrival = now + timedelta(hours=hours)\n",
    "    return arrival.strftime('Arrival: %A %H:%M')\n",
    "\n",
    "arrival_time()"
   ]
  },
  {
   "cell_type": "markdown",
   "metadata": {},
   "source": [
    "Combinación de argumentos y argumentos de palabra clave"
   ]
  },
  {
   "cell_type": "code",
   "execution_count": null,
   "metadata": {},
   "outputs": [],
   "source": [
    "from datetime import timedelta, datetime\n",
    "\n",
    "def arrival_time(destination, hours=51):\n",
    "    now = datetime.now()\n",
    "    arrival = now + timedelta(hours=hours)\n",
    "    return arrival.strftime(f'{destination} Arrival: %A %H:%M')\n",
    "\n",
    "# Se debe agregar el nuevo argumento, o de lo contrario sera error.\n"
   ]
  },
  {
   "cell_type": "markdown",
   "metadata": {},
   "source": [
    ">>> arrival_time()\n",
    "Traceback (most recent call last):\n",
    "  File '<stdin>', line 1, in <module>\n",
    "TypeError: arrival_time() missing 1 required positional argument: 'destination'"
   ]
  },
  {
   "cell_type": "code",
   "execution_count": null,
   "metadata": {},
   "outputs": [],
   "source": [
    "from datetime import timedelta, datetime\n",
    "\n",
    "def arrival_time(destination, hours=51):\n",
    "    now = datetime.now()\n",
    "    arrival = now + timedelta(hours=hours)\n",
    "    return arrival.strftime(f'{destination} Arrival: %A %H:%M')\n",
    "\n",
    "arrival_time('Moon')"
   ]
  },
  {
   "cell_type": "code",
   "execution_count": null,
   "metadata": {},
   "outputs": [],
   "source": [
    "# Se pueden agregar dos argumentos\n",
    "\n",
    "arrival_time('Orbit', hours=0.13)"
   ]
  },
  {
   "cell_type": "markdown",
   "metadata": {},
   "source": [
    "Uso de argumentos de variable en Python\n",
    "\n",
    "Argumentos de variable"
   ]
  },
  {
   "cell_type": "code",
   "execution_count": null,
   "metadata": {},
   "outputs": [],
   "source": [
    "def variable_length(*args):\n",
    "    print(args)"
   ]
  },
  {
   "cell_type": "code",
   "execution_count": null,
   "metadata": {},
   "outputs": [],
   "source": [
    "def sequence_time(*args):\n",
    "    total_minutes = sum(args)\n",
    "    if total_minutes < 60:\n",
    "        return f'Total time to launch is {total_minutes} minutes'\n",
    "    else:\n",
    "        return f'Total time to launch is {total_minutes/60} hours'"
   ]
  },
  {
   "cell_type": "markdown",
   "metadata": {},
   "source": [
    "En el codigo anterior al probar con diferentes valores en el argumento obtenemos:\n",
    "\n",
    ">>> sequence_time(4, 14, 18)\n",
    "'Total time to launch is 36 minutes' \n",
    ">>> sequence_time(4, 14, 48)\n",
    "'Total time to launch is 1.1 hours'"
   ]
  },
  {
   "cell_type": "markdown",
   "metadata": {},
   "source": [
    "Argumentos de palabra clave variable"
   ]
  },
  {
   "cell_type": "code",
   "execution_count": null,
   "metadata": {},
   "outputs": [],
   "source": [
    "def variable_length(**kwargs):\n",
    "    print(kwargs)\n",
    "\n",
    "variable_length(tanks=1, day='Wednesday', pilots=3)"
   ]
  },
  {
   "cell_type": "markdown",
   "metadata": {},
   "source": [
    "Probando con la tripulación del Apolo 11:"
   ]
  },
  {
   "cell_type": "code",
   "execution_count": null,
   "metadata": {},
   "outputs": [],
   "source": [
    "def crew_members(**kwargs):\n",
    "    print(f'{len(kwargs)} astronauts assigned for this mission:')\n",
    "    for title, name in kwargs.items():\n",
    "        print(f'{title}: {name}')\n",
    "\n",
    "crew_members(captain='Neil Armstrong', pilot='Buzz Aldrin', command_pilot='Michael Collins')\n",
    "\n",
    "# Dado que puede pasar cualquier combinación de argumentos de palabra clave, nos aseguramos de evitar palabras clave repetidas. \n",
    "# Las palabras clave repetidas producirán un error:"
   ]
  },
  {
   "cell_type": "markdown",
   "metadata": {},
   "source": [
    "Error:\n",
    "\n",
    ">>> crew_members(captain='Neil Armstrong', pilot='Buzz Aldrin', pilot='Michael Collins')\n",
    "  File '<stdin>', line 1\n",
    "SyntaxError: keyword argument repeated: pilot\n",
    "\n"
   ]
  }
 ],
 "metadata": {
  "interpreter": {
   "hash": "b89b5cfaba6639976dc87ff2fec6d58faec662063367e2c229c520fe71072417"
  },
  "kernelspec": {
   "display_name": "Python 3.10.1 64-bit",
   "language": "python",
   "name": "python3"
  },
  "language_info": {
   "codemirror_mode": {
    "name": "ipython",
    "version": 3
   },
   "file_extension": ".py",
   "mimetype": "text/x-python",
   "name": "python",
   "nbconvert_exporter": "python",
   "pygments_lexer": "ipython3",
   "version": "3.10.1"
  },
  "orig_nbformat": 4
 },
 "nbformat": 4,
 "nbformat_minor": 2
}

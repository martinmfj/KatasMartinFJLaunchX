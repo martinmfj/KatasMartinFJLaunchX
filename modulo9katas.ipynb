{
 "cells": [
  {
   "cell_type": "code",
   "execution_count": null,
   "metadata": {},
   "outputs": [],
   "source": [
    "# FUNCION PARA 3 TANQUES\n",
    "def report(tanque1, tanque2, tanque3):\n",
    "    promedio = (tanque1 + tanque2 + tanque3) / 3\n",
    "    print(f'Promedio total: {promedio} \\nTanque 1: {tanque1} \\nTanque 2: {tanque2} \\nTanque 3: {tanque3}')\n",
    "\n",
    "report(80, 75, 85)"
   ]
  },
  {
   "cell_type": "code",
   "execution_count": null,
   "metadata": {},
   "outputs": [],
   "source": [
    "# FUNCION PROMEDIO\n",
    "\n",
    "def promedio(valor):\n",
    "    total = sum(valor)\n",
    "    tanques = len(valor)\n",
    "    return total / tanques\n",
    "\n",
    "\n",
    "# FUNCION PARA 3 TANQUES\n",
    "def report(tanque1, tanque2, tanque3):\n",
    "    return f\"\"\"Reporte:\n",
    "    Pormedio: {promedio([tanque1, tanque2, tanque3])}\n",
    "    Tanque 1: {tanque1}\n",
    "    Tanque 2: {tanque2}\n",
    "    Tanque 3: {tanque3} \"\"\"\n",
    "print(report(88, 76, 70))"
   ]
  },
  {
   "cell_type": "code",
   "execution_count": null,
   "metadata": {},
   "outputs": [],
   "source": [
    "# EJERCICIO 2: TRABAJO CON ARGUMENTOS DE PALABRA CLAVE\n",
    "\n",
    "def informe(tiempo_lanzamiento,tiempo_vuelo, destino, tanque):\n",
    "    return f\"\"\"\n",
    "    Mision a: {destino}\n",
    "    Tiempo de vuelo: {tiempo_vuelo + tiempo_lanzamiento}\n",
    "    Combustible: {tanque}\"\"\"\n",
    "\n",
    "print(informe(50, 100, 'Venus', 80))\n",
    "\n"
   ]
  },
  {
   "cell_type": "code",
   "execution_count": null,
   "metadata": {},
   "outputs": [],
   "source": [
    "# Escribe tu nueva función de reporte considerando lo anterior\n",
    "\n",
    "def mision(destino, *minutos, **combustible):\n",
    "    return f\"\"\"\n",
    "    Mision a {destino}\n",
    "    Tiempo de viaje: {sum(minutos)} minutes\n",
    "    Combustible requerido: {sum(combustible.values())}\n",
    "    \"\"\"\n",
    "\n",
    "print(mision(\"Moon\", 10, 15, 51, main=300000, external=200000))"
   ]
  }
 ],
 "metadata": {
  "interpreter": {
   "hash": "b89b5cfaba6639976dc87ff2fec6d58faec662063367e2c229c520fe71072417"
  },
  "kernelspec": {
   "display_name": "Python 3.10.1 64-bit",
   "language": "python",
   "name": "python3"
  },
  "language_info": {
   "codemirror_mode": {
    "name": "ipython",
    "version": 3
   },
   "file_extension": ".py",
   "mimetype": "text/x-python",
   "name": "python",
   "nbconvert_exporter": "python",
   "pygments_lexer": "ipython3",
   "version": "3.10.1"
  },
  "orig_nbformat": 4
 },
 "nbformat": 4,
 "nbformat_minor": 2
}

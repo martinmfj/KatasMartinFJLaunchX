{
 "cells": [
  {
   "cell_type": "markdown",
   "metadata": {},
   "source": [
    "Modulo 1: Primeros pasos"
   ]
  },
  {
   "cell_type": "markdown",
   "metadata": {},
   "source": [
    "Programa en python.\n",
    "Es necesario agregar instrucciones de codigo. El formato de un archivo Python es .py\n",
    "\n",
    "Ejemplo de un pequeño codigo en Python."
   ]
  },
  {
   "cell_type": "code",
   "execution_count": null,
   "metadata": {},
   "outputs": [],
   "source": [
    "# program.py\n",
    "sum = 1+ 2\n",
    "print(sum)\n",
    "\n"
   ]
  },
  {
   "cell_type": "markdown",
   "metadata": {},
   "source": [
    "Ejecutar un programa.\n",
    "\n",
    "La ejecuacion de un programa python desde la consola requiere de la ubicacion del archivo.\n",
    "Ejemplo desde cmd\n",
    "Microsoft Windows [Versión 10.0.19041.1415]\n",
    "(c) Microsoft Corporation. Todos los derechos reservados.\n",
    "\n",
    "C:\\Users\\Usuario>cd C:\\Users\\Usuario\\Documents\\VSC\\Python\n",
    "\n",
    "C:\\Users\\Usuario\\Documents\\VSC\\Python>python program.py\n",
    "3\n",
    "\n",
    "C:\\Users\\Marti\\Documents\\VSC\\Python>"
   ]
  },
  {
   "cell_type": "code",
   "execution_count": null,
   "metadata": {},
   "outputs": [],
   "source": [
    "print('Hola desde la consola')\n"
   ]
  },
  {
   "cell_type": "code",
   "execution_count": null,
   "metadata": {},
   "outputs": [],
   "source": [
    "sum = 1 + 2 # 3\n",
    "product = sum * 2\n",
    "print(sum)\n"
   ]
  },
  {
   "cell_type": "markdown",
   "metadata": {},
   "source": [
    "Tipos de datos \n",
    "Una variable dentro de python se puede catalogar dentro de un tipo de dato. \n",
    "\n",
    "Tipos\n",
    "\n",
    "Numerico: Numero con o sin decimales, ejemplo: int, float, complex, no = 3.\n",
    "Texto: str = \"a literal string\"\n",
    "Booleano: continue = True"
   ]
  },
  {
   "cell_type": "code",
   "execution_count": null,
   "metadata": {},
   "outputs": [],
   "source": [
    "# Declaraciones de las varables ejemplo\n",
    "\n",
    "planetas_en_el_sistema_solar = 8 # int, plutón era considerado un planeta pero ya es muy pequeño\n",
    "distancia_a_alfa_centauri = 4.367 # float, años luz\n",
    "puede_despegar = True\n",
    "transbordador_que_aterrizo_en_la_luna = \"Apollo 11\" #string\n",
    "\n",
    "# Indentificaciojn del tipo de al menos una variable.\n",
    "type(distancia_a_alfa_centauri)"
   ]
  },
  {
   "cell_type": "markdown",
   "metadata": {},
   "source": [
    "Operadores \n",
    "La estructura de las operaciones dentro del codigo.\n",
    "\n",
    "<left side> <operator> <right side>\n",
    "\n",
    "Operadores aritmeticos\n",
    "Suma: +\n",
    "Resta: -\n",
    "Multiplicacion: *\n",
    "Division: /\n",
    "\n",
    "Operadores de asignacion\n",
    "Variable +=\n",
    "Variable -=\n",
    "Variable *=\n",
    "Variable /="
   ]
  },
  {
   "cell_type": "markdown",
   "metadata": {},
   "source": [
    "Fechas\n",
    "\n",
    "Importante para tomar en cuenta copias de seguridad e identificar la fecha de elaboracion de dichas copias-\n",
    "Porgramacion de ciertos eventos en determinado momento.\n",
    "Usarlo como metodo de medicion para comprobar el rendimiento del codigo. "
   ]
  },
  {
   "cell_type": "code",
   "execution_count": null,
   "metadata": {},
   "outputs": [],
   "source": [
    "# importar la bilbioteca \n",
    "from datetime import date\n",
    "# obtener la fecha del dia de hoy\n",
    "date.today()\n",
    "# mostrar la fecha en la consola\n",
    "print(date.today())\n",
    "print(type(date.today()))\n",
    "\n",
    "# La importancia de realizar la conversion del tipo de datos, no se permite la combinacion de datos de diferente tipo\n",
    "# Convertir a cadena de texto str\n",
    "\n",
    "print(\"Today's date is: \" + str(date.today()))\n"
   ]
  },
  {
   "cell_type": "markdown",
   "metadata": {},
   "source": [
    "Recopilar informacion\n",
    "\n",
    "Entrada de datos \n",
    "El usuario interactua con el programa ingresando datos. El comando input se encarga de asignar el valor de entrada a una variable determinada."
   ]
  },
  {
   "cell_type": "code",
   "execution_count": null,
   "metadata": {},
   "outputs": [],
   "source": [
    "print(\"Bienvenido al programa de bienvenida\")\n",
    "name  = input(\"Introduzca su nombre \")\n",
    "print(\"Saludos: \" + name)\n",
    "print(f'Saludos: {name}')"
   ]
  },
  {
   "cell_type": "markdown",
   "metadata": {},
   "source": [
    "Trabajando con numeros \n",
    "\n",
    "Al momento de ingresar numeros estos se ingresan como cadena (str), por lo cual es importante realizar un cambio en el tipo de dato."
   ]
  },
  {
   "cell_type": "code",
   "execution_count": null,
   "metadata": {},
   "outputs": [],
   "source": [
    "print(\"Calculadora (sin la conversion de datos)\")\n",
    "num1 = input(\"Ingrese su primer numero: \")\n",
    "num2 = input(\"ingrese su segundo numero: \")\n",
    "suma = num1 + num2\n",
    "print(suma)\n",
    "\n",
    "print(\"no es correcto, aplicando el cambio de cadena a numerico con la funcion int\")\n",
    "\n",
    "print(\"Calculadora\")\n",
    "Num1 = int(input(\"Ingrese numero 1: \"))\n",
    "Num2 = int(input(\"Ingrese numero 2: \"))\n",
    "Suma = Num2 + Num1\n",
    "print(Suma)\n"
   ]
  }
 ],
 "metadata": {
  "interpreter": {
   "hash": "b89b5cfaba6639976dc87ff2fec6d58faec662063367e2c229c520fe71072417"
  },
  "kernelspec": {
   "display_name": "Python 3.10.1 64-bit",
   "language": "python",
   "name": "python3"
  },
  "language_info": {
   "codemirror_mode": {
    "name": "ipython",
    "version": 3
   },
   "file_extension": ".py",
   "mimetype": "text/x-python",
   "name": "python",
   "nbconvert_exporter": "python",
   "pygments_lexer": "ipython3",
   "version": "3.10.1"
  },
  "orig_nbformat": 4
 },
 "nbformat": 4,
 "nbformat_minor": 2
}

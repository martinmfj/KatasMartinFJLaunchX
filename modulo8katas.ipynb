{
 "cells": [
  {
   "cell_type": "code",
   "execution_count": null,
   "metadata": {},
   "outputs": [],
   "source": [
    "# EJERICIO 1 - CREACION DE DICCIONARIOS DE PYTHON\n",
    "\n",
    "planet = {\n",
    "    'name': 'Mars',\n",
    "    'moons': 2\n",
    "}\n",
    "\n",
    "print(f\"{planet['name']} has {planet['moons']} moons\")\n",
    "\n",
    "\n",
    "planet['circuferencia (km)'] = {\n",
    "    'polar': 6752,\n",
    "    'equatorial': 6792\n",
    "}\n",
    "\n",
    "\n",
    "print(f\"{planet['name']} tiene una circuferencia de polar de {planet['circuferencia (km)']['polar']} km\")"
   ]
  },
  {
   "cell_type": "code",
   "execution_count": 11,
   "metadata": {},
   "outputs": [
    {
     "name": "stdout",
     "output_type": "stream",
     "text": [
      "214\n",
      "12\n",
      "Cada planeta tiene en promedio aproximadamente 18 lunas.\n"
     ]
    }
   ],
   "source": [
    "# EJERCICIO 2 - PROGRAMACION DINAMICA CON DICCIONARIOS\n",
    "\n",
    "planet_moons = {\n",
    "    'mercury': 0,\n",
    "    'venus': 0,\n",
    "    'earth': 1,\n",
    "    'mars': 2,\n",
    "    'jupiter': 79,\n",
    "    'saturn': 82,\n",
    "    'uranus': 27,\n",
    "    'neptune': 14,\n",
    "    'pluto': 5,\n",
    "    'haumea': 2,\n",
    "    'makemake': 1,\n",
    "    'eris': 1\n",
    "}\n",
    "\n",
    "moons = 0\n",
    "\n",
    "for item in planet_moons.values():\n",
    "    moons = moons + item\n",
    "\n",
    "print(moons)\n",
    "\n",
    "planets = len(planet_moons)\n",
    "print(planets)\n",
    "\n",
    "promedio = round(moons/planets)\n",
    "\n",
    "print(f'Cada planeta tiene en promedio aproximadamente {promedio} lunas.')"
   ]
  }
 ],
 "metadata": {
  "interpreter": {
   "hash": "b89b5cfaba6639976dc87ff2fec6d58faec662063367e2c229c520fe71072417"
  },
  "kernelspec": {
   "display_name": "Python 3.10.1 64-bit",
   "language": "python",
   "name": "python3"
  },
  "language_info": {
   "codemirror_mode": {
    "name": "ipython",
    "version": 3
   },
   "file_extension": ".py",
   "mimetype": "text/x-python",
   "name": "python",
   "nbconvert_exporter": "python",
   "pygments_lexer": "ipython3",
   "version": "3.10.1"
  },
  "orig_nbformat": 4
 },
 "nbformat": 4,
 "nbformat_minor": 2
}

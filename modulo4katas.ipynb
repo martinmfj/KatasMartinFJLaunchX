{
 "cells": [
  {
   "cell_type": "markdown",
   "metadata": {},
   "source": [
    "EJERCICIO 1: TRANSFORMAR CADENAS\n",
    "\n",
    "Extraer datos de la luna y crear un breve resumen\n"
   ]
  },
  {
   "cell_type": "code",
   "execution_count": null,
   "metadata": {},
   "outputs": [],
   "source": [
    "text = \"\"\"Interesting facts about the Moon. The Moon is Earth's only satellite. There are several interesting facts about the Moon and how it affects life here on Earth. \n",
    "On average, the Moon moves 4cm away from the Earth every year. This yearly drift is not significant enough to cause immediate effects on Earth. The highest daylight temperature of the Moon is 127 C.\"\"\"\n",
    "\n",
    "text .split('.')\n",
    "\n",
    "'average' in text.lower()\n",
    "c = 0\n",
    "for  item in text.split('.'):\n",
    "    c += 1\n",
    "    if 'average' in text.lower():\n",
    "        text[c]\n",
    "\n",
    "\n",
    "\n",
    "\n",
    "'temperature' in text.lower()\n",
    "for item in text.split():\n",
    "    if item.isnumeric():\n",
    "        print(item)\n",
    "\n",
    "\n",
    "\n",
    "'distance' in text.lower()\n",
    "\n",
    "\n"
   ]
  },
  {
   "cell_type": "code",
   "execution_count": null,
   "metadata": {},
   "outputs": [],
   "source": [
    "text = \"\"\"Interesting facts about the Moon. The Moon is Earth's only satellite. There are several interesting facts about the Moon and how it affects life here on Earth. \n",
    "On average, the Moon moves 4cm away from the Earth every year. This yearly drift is not significant enough to cause immediate effects on Earth. The highest daylight temperature of the Moon is 127 C.\"\"\"\n",
    "\n",
    "text.split('. ')\n"
   ]
  },
  {
   "cell_type": "code",
   "execution_count": null,
   "metadata": {},
   "outputs": [],
   "source": [
    "text = \"\"\"Interesting facts about the Moon. The Moon is Earth's only satellite. There are several interesting facts about the Moon and how it affects life here on Earth. \n",
    "On average, the Moon moves 4cm away from the Earth every year. This yearly drift is not significant enough to cause immediate effects on Earth. The highest daylight temperature of the Moon is 127 C.\"\"\"\n",
    "\n",
    "divisiones = text.split('. ')\n",
    "\n",
    "busquedas = ['average', 'temperature', 'distance']\n",
    "\n",
    "for item in divisiones:\n",
    "    for busqueda in busquedas:\n",
    "        if busqueda in item:\n",
    "            print(f'busqueda exitosa: {busqueda}')\n",
    "            break\n",
    "\n"
   ]
  },
  {
   "cell_type": "code",
   "execution_count": null,
   "metadata": {},
   "outputs": [],
   "source": [
    "text = \"\"\"Interesting facts about the Moon. The Moon is Earth's only satellite. There are several interesting facts about the Moon and how it affects life here on Earth. \n",
    "On average, the Moon moves 4cm away from the Earth every year. This yearly drift is not significant enough to cause immediate effects on Earth. The highest daylight temperature of the Moon is 127 C.\"\"\"\n",
    "\n",
    "divisiones = text.split('. ')\n",
    "\n",
    "busquedas = ['average', 'temperature', 'distance']\n",
    "\n",
    "for informacion in divisiones:\n",
    "    for busqueda in busquedas:\n",
    "        if busqueda in informacion:\n",
    "            print(informacion)\n",
    "            break\n"
   ]
  },
  {
   "cell_type": "code",
   "execution_count": null,
   "metadata": {},
   "outputs": [],
   "source": [
    "text = \"\"\"Interesting facts about the Moon. The Moon is Earth's only satellite. There are several interesting facts about the Moon and how it affects life here on Earth. \n",
    "On average, the Moon moves 4cm away from the Earth every year. This yearly drift is not significant enough to cause immediate effects on Earth. The highest daylight temperature of the Moon is 127 C.\"\"\"\n",
    "\n",
    "divisiones = text.split('. ')\n",
    "\n",
    "busquedas = ['temperature']\n",
    "\n",
    "for informacion in divisiones:\n",
    "    for busqueda in busquedas:\n",
    "        if busqueda in informacion:\n",
    "                print(informacion.replace('C', 'Celsius'))\n",
    "                break"
   ]
  },
  {
   "cell_type": "code",
   "execution_count": null,
   "metadata": {},
   "outputs": [],
   "source": [
    "# Datos con los que vas a trabajar\n",
    "name = \"Moon\"\n",
    "gravity = 0.00162 # in kms\n",
    "planet = \"Earth\""
   ]
  },
  {
   "cell_type": "code",
   "execution_count": 41,
   "metadata": {},
   "outputs": [
    {
     "name": "stdout",
     "output_type": "stream",
     "text": [
      "Gravity Facts About Moon \n",
      "------------------------------------------------------------------------------------------------------------------------------------------------------ \n",
      "Planet name: Earth \n",
      "Gravity on Moon: 1.6199999999999999 m/s^2 \n",
      "\n",
      "Gravity Facts About Ganímedes \n",
      "------------------------------------------------------------------------------------------------------------------------------------------------------ \n",
      "Planet name: Marte  \n",
      "Gravity on Ganímedes: 1.4300000000000002 m/s^2 \n",
      "\n"
     ]
    }
   ],
   "source": [
    "name = \"Moon\"\n",
    "gravity = 0.00162 # in kms\n",
    "planet = \"Earth\"\n",
    "\n",
    "\n",
    "print(f\"Gravity Facts About {name} \\n{'-'*150} \\nPlanet name: {planet} \\nGravity on {name}: {gravity*1000} m/s^2 \\n\")\n",
    "\n",
    "# Nuevos datos muestra\n",
    "planeta = 'Marte '\n",
    "gravedad  = 0.00143\n",
    "nombre = 'Ganímedes'\n",
    "\n",
    "name = nombre\n",
    "gravity = gravedad\n",
    "planet = planeta\n",
    "\n",
    "\n",
    "print(f\"Gravity Facts About {name} \\n{'-'*150} \\nPlanet name: {planet} \\nGravity on {name}: {gravity*1000} m/s^2 \\n\")\n",
    "\n",
    "\n",
    "\n"
   ]
  }
 ],
 "metadata": {
  "interpreter": {
   "hash": "b89b5cfaba6639976dc87ff2fec6d58faec662063367e2c229c520fe71072417"
  },
  "kernelspec": {
   "display_name": "Python 3.10.1 64-bit",
   "language": "python",
   "name": "python3"
  },
  "language_info": {
   "codemirror_mode": {
    "name": "ipython",
    "version": 3
   },
   "file_extension": ".py",
   "mimetype": "text/x-python",
   "name": "python",
   "nbconvert_exporter": "python",
   "pygments_lexer": "ipython3",
   "version": "3.10.1"
  },
  "orig_nbformat": 4
 },
 "nbformat": 4,
 "nbformat_minor": 2
}
